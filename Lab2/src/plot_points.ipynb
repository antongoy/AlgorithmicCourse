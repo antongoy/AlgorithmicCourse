{
 "cells": [
  {
   "cell_type": "code",
   "execution_count": 1,
   "metadata": {
    "collapsed": false
   },
   "outputs": [],
   "source": [
    "import numpy as np\n",
    "import pandas as pd\n",
    "import matplotlib.pyplot as plt\n",
    "import seaborn as sns\n",
    "\n",
    "%matplotlib inline"
   ]
  },
  {
   "cell_type": "code",
   "execution_count": 2,
   "metadata": {
    "collapsed": true
   },
   "outputs": [],
   "source": [
    "with open('../input/4node.txt', 'r') as input_file:\n",
    "    points = []\n",
    "    n_points = 0\n",
    "    for i, line in enumerate(input_file):\n",
    "        if i == 0:\n",
    "            n_points = int(line)\n",
    "            continue\n",
    "        \n",
    "        if i <= n_points:\n",
    "            x, y = line.rstrip().split()\n",
    "            points.append([float(x), float(y)])\n",
    "            \n",
    "points = np.array(points)"
   ]
  },
  {
   "cell_type": "code",
   "execution_count": 402,
   "metadata": {
    "collapsed": false
   },
   "outputs": [],
   "source": [
    "hull = \\\n",
    "'''\n",
    "82 81\n",
    "91 64\n",
    "95 62\n",
    "99 61\n",
    "106 63\n",
    "200 133\n",
    "201 135\n",
    "195 145\n",
    "136 176\n",
    "134 176\n",
    "132 175\n",
    "96 134\n",
    "88 122\n",
    "'''\n",
    "hull = np.array([list(map(float, i.split())) for i in hull.split('\\n')][1:-1])"
   ]
  },
  {
   "cell_type": "code",
   "execution_count": 3,
   "metadata": {
    "collapsed": false
   },
   "outputs": [
    {
     "data": {
      "text/plain": [
       "<matplotlib.collections.PathCollection at 0x7f3a408f8a58>"
      ]
     },
     "execution_count": 3,
     "metadata": {},
     "output_type": "execute_result"
    },
    {
     "data": {
      "image/png": "[encoded data removed]",
      "text/plain": [
       "<matplotlib.figure.Figure at 0x7f3a40996908>"
      ]
     },
     "metadata": {},
     "output_type": "display_data"
    }
   ],
   "source": [
    "plt.figure(figsize=(20, 9))\n",
    "plt.scatter(points[:, 0], points[:, 1], marker='.')\n",
    "# plt.plot(hull[:, 0], hull[:, 1], c='green')\n",
    "# plt.xlim([106.99, 107.01])\n",
    "# plt.ylim([60, 70])"
   ]
  },
  {
   "cell_type": "code",
   "execution_count": 225,
   "metadata": {
    "collapsed": false
   },
   "outputs": [
    {
     "data": {
      "text/plain": [
       "(array([ 0.65617871,  0.75460552]), array([ 0.5547002 ,  0.83205029]))"
      ]
     },
     "execution_count": 225,
     "metadata": {},
     "output_type": "execute_result"
    }
   ],
   "source": [
    "points[-1] / norm(points[-1]), points[-2] / norm(points[-2])"
   ]
  },
  {
   "cell_type": "code",
   "execution_count": 46,
   "metadata": {
    "collapsed": false
   },
   "outputs": [],
   "source": [
    "p1 = points[0, :]\n",
    "p2 = points[int(len(points) / 3), :]\n",
    "p3 = points[int(2 *len(points) / 3), :]\n",
    "p4 = points[-1, :]\n",
    "p5 = 0.2 * (p1 + p2 + p3 + p4)"
   ]
  },
  {
   "cell_type": "code",
   "execution_count": 211,
   "metadata": {
    "collapsed": false
   },
   "outputs": [],
   "source": [
    "p1 = np.random.normal(size=(2,))\n",
    "p2 = np.random.normal(size=(2,))\n",
    "p3 = np.random.normal(size=(2,))\n",
    "p4 = np.random.normal(size=(2,))\n",
    "p5 = np.random.normal(size=(2,))"
   ]
  },
  {
   "cell_type": "code",
   "execution_count": 212,
   "metadata": {
    "collapsed": true
   },
   "outputs": [],
   "source": [
    "p2[1] = min(p1[1], p2[1], p3[1], p4[1], p5[1]) - 0.5"
   ]
  },
  {
   "cell_type": "code",
   "execution_count": 213,
   "metadata": {
    "collapsed": false
   },
   "outputs": [],
   "source": [
    "m = np.array([min((p1 - p2)[0], (p2 - p2)[0], (p3 - p2)[0], (p4 - p2)[0], (p5 - p2)[0]), 0])"
   ]
  },
  {
   "cell_type": "code",
   "execution_count": 214,
   "metadata": {
    "collapsed": false
   },
   "outputs": [],
   "source": [
    "p1, p2, p3, p4, p5 = p1 - m, p2 - m, p3 - m, p4 - m, p5 - m "
   ]
  },
  {
   "cell_type": "code",
   "execution_count": 216,
   "metadata": {
    "collapsed": false
   },
   "outputs": [
    {
     "data": {
      "text/plain": [
       "<matplotlib.collections.PathCollection at 0x7fe8f0453eb8>"
      ]
     },
     "execution_count": 216,
     "metadata": {},
     "output_type": "execute_result"
    },
    {
     "data": {
      "image/png": "[encoded data removed]",
      "text/plain": [
       "<matplotlib.figure.Figure at 0x7fe8f0510588>"
      ]
     },
     "metadata": {},
     "output_type": "display_data"
    }
   ],
   "source": [
    "plt.scatter((p1-p2)[0], (p1-p2)[1], c='blue')\n",
    "plt.scatter((p2-p2)[0], (p2-p2)[1], c='green')\n",
    "plt.scatter((p3-p2)[0], (p3-p2)[1], c='red')\n",
    "plt.scatter((p4-p2)[0], (p4-p2)[1], c='magenta')\n",
    "plt.scatter((p5-p2)[0], (p5-p2)[1], c='black')\n",
    "# plt.scatter(pivot[0], pivot[1], c='cyan')\n",
    "# plt.scatter((pivot)[0], (pivot)[1], c='orange')\n",
    "\n",
    "# plt.scatter((p1)[0], (p1)[1], c='blue')\n",
    "# plt.scatter((p2)[0], (p2)[1], c='green')\n",
    "# plt.scatter((p3)[0], (p3)[1], c='red')\n",
    "# plt.scatter((p4)[0], (p4)[1], c='magenta')\n",
    "# plt.scatter((p5)[0], (p5)[1], c='black')\n"
   ]
  },
  {
   "cell_type": "code",
   "execution_count": 202,
   "metadata": {
    "collapsed": true
   },
   "outputs": [],
   "source": [
    "def cross_product(p, q):\n",
    "    return p[0] * q[1] - p[1] * q[0]\n",
    "\n",
    "def norm(p):\n",
    "    return np.sqrt(p[0] ** 2 + p[1] **2)"
   ]
  },
  {
   "cell_type": "code",
   "execution_count": 203,
   "metadata": {
    "collapsed": true
   },
   "outputs": [],
   "source": [
    "def cos(p, q):\n",
    "    return np.dot(p, q) / (norm(p) * norm(q))"
   ]
  },
  {
   "cell_type": "code",
   "execution_count": 152,
   "metadata": {
    "collapsed": false
   },
   "outputs": [
    {
     "data": {
      "text/plain": [
       "(array([-0.50180059,  0.86498333]), array([ 0.19586791,  0.98063029]))"
      ]
     },
     "execution_count": 152,
     "metadata": {},
     "output_type": "execute_result"
    }
   ],
   "source": [
    "norm(p5 - p2), norm(p1 - p2)"
   ]
  },
  {
   "cell_type": "code",
   "execution_count": 199,
   "metadata": {
    "collapsed": false
   },
   "outputs": [
    {
     "data": {
      "text/plain": [
       "(1.1779838627462922,\n",
       " 1.1563529123547682,\n",
       " 0.82396558889942451,\n",
       " 1.1332625703921002)"
      ]
     },
     "execution_count": 199,
     "metadata": {},
     "output_type": "execute_result"
    }
   ],
   "source": [
    "(np.arccos(cross_product( norm(pivot), norm(p4 - p2))), \n",
    " np.arccos(cross_product(norm(pivot), norm(p3 - p2))), \n",
    " np.arccos(cross_product( norm(pivot), norm(p1 - p2))), \n",
    " np.arccos(cross_product( norm(pivot), norm(p5 - p2))))"
   ]
  },
  {
   "cell_type": "code",
   "execution_count": 330,
   "metadata": {
    "collapsed": false
   },
   "outputs": [
    {
     "data": {
      "text/plain": [
       "-12"
      ]
     },
     "execution_count": 330,
     "metadata": {},
     "output_type": "execute_result"
    }
   ],
   "source": [
    "cross_product(hull[1] - hull[0], hull[2] - hull[1])"
   ]
  },
  {
   "cell_type": "code",
   "execution_count": 316,
   "metadata": {
    "collapsed": false
   },
   "outputs": [],
   "source": [
    "hull[0, 1] *= 4\n",
    "hull[2, 1] *= 4"
   ]
  },
  {
   "cell_type": "code",
   "execution_count": 374,
   "metadata": {
    "collapsed": true
   },
   "outputs": [],
   "source": [
    "slope = (hull[-1, 1] - hull[0, 1]) / (hull[-1, 0] - hull[0, 0])\n",
    "intercept = - hull[0, 0] * slope + hull[0, 1]"
   ]
  },
  {
   "cell_type": "code",
   "execution_count": 376,
   "metadata": {
    "collapsed": false
   },
   "outputs": [
    {
     "data": {
      "text/plain": [
       "58.796610169491522"
      ]
     },
     "execution_count": 376,
     "metadata": {},
     "output_type": "execute_result"
    }
   ],
   "source": [
    "120 - (slope * 60 + intercept)"
   ]
  },
  {
   "cell_type": "code",
   "execution_count": null,
   "metadata": {
    "collapsed": true
   },
   "outputs": [],
   "source": []
  }
 ],
 "metadata": {
  "kernelspec": {
   "display_name": "Python 3",
   "language": "python",
   "name": "python3"
  },
  "language_info": {
   "codemirror_mode": {
    "name": "ipython",
    "version": 3
   },
   "file_extension": ".py",
   "mimetype": "text/x-python",
   "name": "python",
   "nbconvert_exporter": "python",
   "pygments_lexer": "ipython3",
   "version": "3.5.1+"
  }
 },
 "nbformat": 4,
 "nbformat_minor": 1
}
